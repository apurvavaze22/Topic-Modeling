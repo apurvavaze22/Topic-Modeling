{
 "cells": [
  {
   "cell_type": "code",
   "execution_count": null,
   "id": "52e14c9b",
   "metadata": {},
   "outputs": [],
   "source": [
    "# import required packages and libraries\n",
    "import pandas as pd\n",
    "import time\n",
    "import matplotlib.pyplot as plt\n",
    "from gensim.models import CoherenceModel\n",
    "from gensim.models.ldamodel import LdaModel\n",
    "from gensim.corpora import Dictionary\n",
    "from nltk.corpus import stopwords\n",
    "from nltk.stem import PorterStemmer\n",
    "import re"
   ]
  },
  {
   "cell_type": "code",
   "execution_count": null,
   "id": "acc5cf83",
   "metadata": {
    "scrolled": false
   },
   "outputs": [],
   "source": [
    "# import linkedin data csv file\n",
    "df = pd.read_csv(\"/Users/apurva/Downloads/linkedin-instructor-cleaned.csv\", encoding='ISO-8859-1')\n",
    "df\n"
   ]
  },
  {
   "cell_type": "code",
   "execution_count": null,
   "id": "531fd4dc",
   "metadata": {},
   "outputs": [],
   "source": [
    "# Function to calculate coherence score\n",
    "def calculate_coherence(dictionary, corpus, texts, limit, start=2, step=3):\n",
    "    coherence_values = []\n",
    "    model_list = []\n",
    "    for num_topics in range(start, limit, step):\n",
    "        model = LdaModel(corpus, num_topics=num_topics, id2word=dictionary)\n",
    "        model_list.append(model)\n",
    "        coherencemodel = CoherenceModel(model=model, texts=texts, dictionary=dictionary, coherence='c_v')\n",
    "        coherence_values.append(coherencemodel.get_coherence())\n",
    "\n",
    "    return model_list, coherence_values"
   ]
  },
  {
   "cell_type": "code",
   "execution_count": null,
   "id": "f4edf4a0",
   "metadata": {},
   "outputs": [],
   "source": [
    "# Function to find the optimal number of topics\n",
    "def find_optimal_topics(dictionary, corpus, texts, limit, start=2, step=3):\n",
    "    model_list, coherence_values = calculate_coherence(dictionary, corpus, texts, limit, start, step)\n",
    "\n",
    "    # Find the number of topics with the highest coherence score\n",
    "    optimal_num_topics = start + (coherence_values.index(max(coherence_values)) * step)\n",
    "\n",
    "    return optimal_num_topics"
   ]
  },
  {
   "cell_type": "code",
   "execution_count": null,
   "id": "0fd44757",
   "metadata": {},
   "outputs": [],
   "source": [
    "# Create a function to apply topic modeling with stopword removal and stemming\n",
    "def apply_topic_modeling(text):\n",
    "    # Check if the input is a non-null string\n",
    "    if isinstance(text, str):\n",
    "        # Remove repetitions of sentences\n",
    "        sentences = re.split(r'[.!?]', text)\n",
    "        unique_sentences = list(set(sentences))\n",
    "        cleaned_text = ' '.join(unique_sentences)\n",
    "\n",
    "        # Split the cleaned text into words\n",
    "        words = re.findall(r'\\b\\w+\\b', cleaned_text)\n",
    "        \n",
    "        # Remove stopwords\n",
    "        stop_words = set(stopwords.words('english'))\n",
    "        words = [word for word in words if word.lower() not in stop_words]\n",
    "        \n",
    "        # Apply stemming\n",
    "        stemmer = PorterStemmer()\n",
    "        words = [stemmer.stem(word) for word in words]\n",
    "        \n",
    "        # Remove specific common words\n",
    "        words = [word for word in words if word.lower() not in ['of', 'the', 'also']]\n",
    "        \n",
    "        # Create a Dictionary from the processed words\n",
    "        dictionary = Dictionary([words])\n",
    "        \n",
    "        # Create a corpus from the processed words\n",
    "        corpus = [dictionary.doc2bow([word]) for word in words]\n",
    "        \n",
    "        # Find the optimal number of topics\n",
    "        optimal_num_topics = find_optimal_topics(dictionary, corpus, [words], limit=10, start=2, step=1)\n",
    "        \n",
    "        # Train the LDA model with the optimal number of topics\n",
    "        lda_model = LdaModel(corpus, num_topics=optimal_num_topics, id2word=dictionary, passes=10)\n",
    "        \n",
    "        # Return the topics and associated keywords\n",
    "        return lda_model.print_topics(num_topics=optimal_num_topics, num_words=5)\n"
   ]
  },
  {
   "cell_type": "code",
   "execution_count": null,
   "id": "96d5b71a",
   "metadata": {
    "scrolled": true
   },
   "outputs": [],
   "source": [
    "# Apply the function to each entry in 'about_section_linkedin' \n",
    "df['lda_topics'] = df['about_section_linkedin'].apply(apply_topic_modeling)\n",
    "\n",
    "# Display the updated DataFrame \n",
    "print(df)"
   ]
  },
  {
   "cell_type": "code",
   "execution_count": null,
   "id": "708c4587",
   "metadata": {},
   "outputs": [],
   "source": [
    "# Load the results into csv file\n",
    "df.to_csv('/Users/apurva/Downloads/Topic_Modelling.csv') "
   ]
  }
 ],
 "metadata": {
  "kernelspec": {
   "display_name": "Python 3 (ipykernel)",
   "language": "python",
   "name": "python3"
  },
  "language_info": {
   "codemirror_mode": {
    "name": "ipython",
    "version": 3
   },
   "file_extension": ".py",
   "mimetype": "text/x-python",
   "name": "python",
   "nbconvert_exporter": "python",
   "pygments_lexer": "ipython3",
   "version": "3.11.5"
  }
 },
 "nbformat": 4,
 "nbformat_minor": 5
}
